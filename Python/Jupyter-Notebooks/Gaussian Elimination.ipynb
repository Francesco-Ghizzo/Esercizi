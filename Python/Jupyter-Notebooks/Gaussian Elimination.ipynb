{
 "cells": [
  {
   "cell_type": "markdown",
   "id": "48b69b10-20bb-4199-bc3c-ce7ba582b5f1",
   "metadata": {},
   "source": [
    "<h1>Eliminazione Gaussiana</h1>"
   ]
  },
  {
   "cell_type": "markdown",
   "id": "be626401-31d8-4c4e-a072-4d18f18f22a0",
   "metadata": {},
   "source": [
    "$$\\begin{eqnarray}\n",
    "L_1 \\quad\\quad & a_{11}x_1 & + & a_{12}x_2 & + & a_{13}x_3 & + & ... & + & a_{1n}x_n & \\quad = & \\quad b_1\\\\\n",
    "L_2 \\quad\\quad & a_{21}x_1 & + & a_{22}x_2 & + & a_{23}x_3 & + & ... & + & a_{2n}x_n & \\quad = & \\quad b_2\\\\\n",
    "L_3 \\quad\\quad & a_{31}x_1 & + & a_{32}x_2 & + & a_{33}x_3 & + & ... & + & a_{3n}x_n & \\quad = & \\quad b_3\\\\\n",
    "    \\quad\\quad &    ...    &   &    ...    &   &    ...    &   & ... &   &    ...    & \\quad   & \\quad ...\\\\\n",
    "L_n \\quad\\quad & a_{n1}x_1 & + & a_{n2}x_2 & + & a_{n3}x_3 & + & ... & + & a_{nn}x_n & \\quad = & \\quad b_n\n",
    "\\end{eqnarray}$$"
   ]
  },
  {
   "cell_type": "markdown",
   "id": "9f282a8b-b536-4f1d-bd94-5d09d25aa8c9",
   "metadata": {},
   "source": [
    "<b>Step 1:</b> eliminare tutti gli $x_1$ tranne il primo.\n",
    "\n",
    "Dobbiamo trovare un $m$ tale che:"
   ]
  },
  {
   "cell_type": "markdown",
   "id": "3891f1fc-abdb-46ef-87fa-47b69ead37d1",
   "metadata": {},
   "source": [
    "\\begin{equation}\n",
    "    L_i - L_1 \\cdot m = 0\n",
    "\\end{equation}"
   ]
  },
  {
   "cell_type": "markdown",
   "id": "18cb727c-5a75-444d-b13e-44ea7fb61368",
   "metadata": {},
   "source": [
    "È fácile verificare che, se $m = \\frac{a_{i1}}{a_{11}}$"
   ]
  },
  {
   "cell_type": "markdown",
   "id": "74ae308f-c602-481b-8122-1968222ead0c",
   "metadata": {},
   "source": [
    "\\begin{equation}\n",
    "    L_i - L_1 \\cdot \\frac{a_{i1}}{a_{11}} \\quad = \\quad a_{i1}x_1 - a_{11} \\frac{a_{i1}}{a_{11}} \\quad = \\quad 0\n",
    "\\end{equation}"
   ]
  },
  {
   "cell_type": "markdown",
   "id": "bca7068e-958b-4025-9db6-cd71cfeb9211",
   "metadata": {},
   "source": [
    "Il nuovo sistema di equazioni diventa:"
   ]
  },
  {
   "cell_type": "markdown",
   "id": "2100c6cf-7de2-4146-8f54-6e773d85d7db",
   "metadata": {},
   "source": [
    "$$\\begin{eqnarray}\n",
    "a_{11}x_1 & + & a_{12} x_2 & + & a_{13} x_3 & + & ... & + & a_{1n} x_n & \\quad = & \\quad b_1'\\\\\n",
    "  \\quad   & + & a_{22}'x_2 & + & a_{23}'x_3 & + & ... & + & a_{2n}'x_n & \\quad = & \\quad b_2'\\\\\n",
    "  \\quad   & + & a_{32}'x_2 & + & a_{33}'x_3 & + & ... & + & a_{3n}'x_n & \\quad = & \\quad b_3'\\\\\n",
    "  \\quad   &   &    ...     &   &    ...     &   & ... &   &    ...     & \\quad   & \\quad ...\\\\\n",
    "  \\quad   & + & a_{n2}'x_2 & + & a_{n3}'x_3 & + & ... & + & a_{nn}'x_n & \\quad = & \\quad b_n'\n",
    "\\end{eqnarray}$$"
   ]
  },
  {
   "cell_type": "markdown",
   "id": "09bddc54-fbaf-4ad6-898c-420ff30bd749",
   "metadata": {},
   "source": [
    "In forma matriciale:"
   ]
  },
  {
   "cell_type": "markdown",
   "id": "8c5101cf-610e-4c38-a4f4-a6571713715a",
   "metadata": {},
   "source": [
    "\\begin{equation*}\n",
    "\\begin{vmatrix}\n",
    "a_{11} & + & a_{12}  & + & a_{13}  & + & ... & + & a_{1n}  \\\\\n",
    "0      & + & a_{22}' & + & a_{23}' & + & ... & + & a_{2n}' \\\\\n",
    "0      & + & a_{32}' & + & a_{33}' & + & ... & + & a_{3n}' \\\\\n",
    "       &   &    ...  &   &    ...  &   & ... &   &    ...  \\\\\n",
    "0      & + & a_{n2}' & + & a_{n3}' & + & ... & + & a_{nn}' \n",
    "\\end{vmatrix}\n",
    "\\begin{vmatrix}\n",
    "x_1 \\\\ x_2 \\\\ x_3 \\\\ ... \\\\ x_n\n",
    "\\end{vmatrix} \n",
    "\\quad = \\quad\n",
    "\\begin{vmatrix}\n",
    "b_1' \\\\ b_2' \\\\ b_3' \\\\ ... \\\\ b_n'\n",
    "\\end{vmatrix}\n",
    "\\end{equation*}"
   ]
  },
  {
   "cell_type": "markdown",
   "id": "a1e6ab8d-858d-44e8-9042-65f2f41a3d00",
   "metadata": {},
   "source": [
    "Dove i coefficienti modificati sono dati da:"
   ]
  },
  {
   "cell_type": "markdown",
   "id": "5ad664d2-0cdf-4aaa-a616-5addad854337",
   "metadata": {},
   "source": [
    "\\begin{align}\n",
    "    a_{ij}' \\quad = \\quad a_{ij} - a_{1j} \\frac{a_{i1}}{a_{11}} & \\quad\\quad & b_i' \\quad = \\quad b_i - b_1 \\frac{a_{i1}}{a_{11}}\n",
    "\\end{align}"
   ]
  },
  {
   "cell_type": "markdown",
   "id": "fad18973-cc31-465e-af75-08632d0d8065",
   "metadata": {},
   "source": [
    "<b>Esempio:</b>"
   ]
  },
  {
   "cell_type": "markdown",
   "id": "77f24cbb-ce45-4a67-a19e-b82231c2cfc9",
   "metadata": {},
   "source": [
    "$$\\begin{eqnarray}\n",
    "       x_1 & - 2 &x_2 & +   &x_3 & \\quad = & \\quad  &0\\\\\n",
    "    \\quad  & + 2 &x_2 & - 8 &x_3 & \\quad = & \\quad  &8\\\\\n",
    "    -4 x_1 & + 5 &x_2 & + 9 &x_3 & \\quad = & \\quad -&9\\\\\n",
    "\\end{eqnarray}$$"
   ]
  },
  {
   "cell_type": "markdown",
   "id": "5ac939e1-58b3-4a4c-8dad-8a7a29cc70fe",
   "metadata": {},
   "source": [
    "\\begin{equation*}\n",
    "\\begin{vmatrix}\n",
    "    & 1&  &-2&  & 1& \\\\\n",
    "    & 0&  & 2&  &-8& \\\\\n",
    "    &-4&  & 5&  & 9& \\\\\n",
    "\\end{vmatrix}\n",
    "\\begin{vmatrix}\n",
    "&x_1& \\\\ &x_2& \\\\ &x_3&\n",
    "\\end{vmatrix} \n",
    "\\quad = \\quad\n",
    "\\begin{vmatrix}\n",
    "    & 0& \\\\ & 8& \\\\ &-9&\n",
    "\\end{vmatrix}\n",
    "\\end{equation*}"
   ]
  },
  {
   "cell_type": "markdown",
   "id": "99c4fb63-5034-4c02-95e4-0e3fbb64354c",
   "metadata": {},
   "source": [
    "Matrice aumentata:"
   ]
  },
  {
   "cell_type": "markdown",
   "id": "6d789a77-6d11-41a7-a958-b63c88c38794",
   "metadata": {},
   "source": [
    "\\begin{equation*}\n",
    "\\begin{vmatrix}\n",
    "    & 1&  &-2&  & 1& & 0&\\\\\n",
    "    & 0&  & 2&  &-8& & 8&\\\\\n",
    "    &-4&  & 5&  & 9& &-9&\\\\\n",
    "\\end{vmatrix}\n",
    "\\end{equation*}"
   ]
  },
  {
   "cell_type": "code",
   "execution_count": 41,
   "id": "f10b125f-a0d1-4cd7-9428-38cb6106ce37",
   "metadata": {},
   "outputs": [],
   "source": [
    "import numpy as np"
   ]
  },
  {
   "cell_type": "code",
   "execution_count": 61,
   "id": "89a4a653-a329-41ff-8732-7ee06aced4c2",
   "metadata": {},
   "outputs": [
    {
     "data": {
      "text/plain": [
       "array([[ 1., -2.,  1.,  0.],\n",
       "       [ 0.,  2., -8.,  8.],\n",
       "       [-4.,  5.,  9., -9.]])"
      ]
     },
     "execution_count": 61,
     "metadata": {},
     "output_type": "execute_result"
    }
   ],
   "source": [
    "A = np.array([[1.0, -2.0, 1.0, 0.0], [0.0, 2.0, -8.0, 8.0], [-4.0, 5.0, 9.0, -9.0]])\n",
    "A"
   ]
  },
  {
   "cell_type": "code",
   "execution_count": 62,
   "id": "08b1596c-9ff0-46d7-b4b0-31c85be9c781",
   "metadata": {},
   "outputs": [
    {
     "data": {
      "text/plain": [
       "array([ 1.,  0., -4.])"
      ]
     },
     "execution_count": 62,
     "metadata": {},
     "output_type": "execute_result"
    }
   ],
   "source": [
    "num_rows, num_cols = A.shape\n",
    "M = A[:,0].copy()\n",
    "M"
   ]
  },
  {
   "cell_type": "code",
   "execution_count": 63,
   "id": "cd6dd5df-fe8e-4a4e-a7be-11e687c0131f",
   "metadata": {},
   "outputs": [],
   "source": [
    "N = num_rows\n",
    "for i in range(1,N):\n",
    "        M[i] = A[i,0]/A[0,0]"
   ]
  },
  {
   "cell_type": "code",
   "execution_count": 64,
   "id": "0fef13e8-4ede-4b5e-a395-a74180c103f6",
   "metadata": {},
   "outputs": [],
   "source": [
    "for i in range(1,N):\n",
    "    A[i] = A[i] - M[i]*A[0]"
   ]
  },
  {
   "cell_type": "code",
   "execution_count": 65,
   "id": "9ccbb3e6-b4ba-4cd9-889d-780f05eb75d3",
   "metadata": {},
   "outputs": [
    {
     "data": {
      "text/plain": [
       "array([[ 1., -2.,  1.,  0.],\n",
       "       [ 0.,  2., -8.,  8.],\n",
       "       [ 0., -3., 13., -9.]])"
      ]
     },
     "execution_count": 65,
     "metadata": {},
     "output_type": "execute_result"
    }
   ],
   "source": [
    "A"
   ]
  },
  {
   "cell_type": "code",
   "execution_count": 66,
   "id": "4160c190-974a-4b91-be3e-c939ba3c914e",
   "metadata": {},
   "outputs": [
    {
     "data": {
      "text/plain": [
       "array([-2.,  2., -3.])"
      ]
     },
     "execution_count": 66,
     "metadata": {},
     "output_type": "execute_result"
    }
   ],
   "source": [
    "M = A[:,1].copy()\n",
    "M"
   ]
  },
  {
   "cell_type": "code",
   "execution_count": 67,
   "id": "62f552b1-76f9-4039-9c16-e038856322cf",
   "metadata": {},
   "outputs": [],
   "source": [
    "for i in range(2,N):\n",
    "        M[i] = A[i,1]/A[1,1]"
   ]
  },
  {
   "cell_type": "code",
   "execution_count": 68,
   "id": "5fb145ef-371a-4cd3-b612-a6538cbcfa1e",
   "metadata": {},
   "outputs": [
    {
     "data": {
      "text/plain": [
       "array([-2. ,  2. , -1.5])"
      ]
     },
     "execution_count": 68,
     "metadata": {},
     "output_type": "execute_result"
    }
   ],
   "source": [
    "M"
   ]
  },
  {
   "cell_type": "code",
   "execution_count": 69,
   "id": "ef8cf140-a141-43ad-b018-0df66b1720aa",
   "metadata": {},
   "outputs": [],
   "source": [
    "for i in range(2,N):\n",
    "    A[i] = A[i] - M[i]*A[1]"
   ]
  },
  {
   "cell_type": "code",
   "execution_count": 70,
   "id": "22615b5d-7b3b-44b9-826a-3cc044ff8c1d",
   "metadata": {},
   "outputs": [
    {
     "data": {
      "text/plain": [
       "array([[ 1., -2.,  1.,  0.],\n",
       "       [ 0.,  2., -8.,  8.],\n",
       "       [ 0.,  0.,  1.,  3.]])"
      ]
     },
     "execution_count": 70,
     "metadata": {},
     "output_type": "execute_result"
    }
   ],
   "source": [
    "A"
   ]
  },
  {
   "cell_type": "markdown",
   "id": "1afae998-be8e-4b1d-9d69-4fa4eb5dfa01",
   "metadata": {},
   "source": [
    "Back substitution"
   ]
  },
  {
   "cell_type": "code",
   "execution_count": 79,
   "id": "a5b7643b-a703-486c-a307-8ffd4174d282",
   "metadata": {},
   "outputs": [
    {
     "data": {
      "text/plain": [
       "3.0"
      ]
     },
     "execution_count": 79,
     "metadata": {},
     "output_type": "execute_result"
    }
   ],
   "source": [
    "x_3 = A[N-1,-1] / A[N-1,-2]\n",
    "x_3"
   ]
  }
 ],
 "metadata": {
  "kernelspec": {
   "display_name": "Python 3 (ipykernel)",
   "language": "python",
   "name": "python3"
  },
  "language_info": {
   "codemirror_mode": {
    "name": "ipython",
    "version": 3
   },
   "file_extension": ".py",
   "mimetype": "text/x-python",
   "name": "python",
   "nbconvert_exporter": "python",
   "pygments_lexer": "ipython3",
   "version": "3.9.12"
  }
 },
 "nbformat": 4,
 "nbformat_minor": 5
}
