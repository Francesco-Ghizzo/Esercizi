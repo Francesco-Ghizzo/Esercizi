{
 "cells": [
  {
   "cell_type": "code",
   "execution_count": 1,
   "id": "148eed7b-44ff-46e2-98f9-f4858402ce13",
   "metadata": {},
   "outputs": [],
   "source": [
    "import numpy as np\n",
    "from matplotlib import pyplot as plt\n",
    "from matplotlib import animation"
   ]
  },
  {
   "cell_type": "code",
   "execution_count": 2,
   "id": "5f8874c2-fec1-4709-8fa3-123ed0dcb4ef",
   "metadata": {},
   "outputs": [],
   "source": [
    "class Particle:\n",
    "    \n",
    "    def __init__(self, x, y, ang_vel):\n",
    "        self.x = x\n",
    "        self.y = y\n",
    "        self.ang_vel = ang_vel"
   ]
  },
  {
   "cell_type": "code",
   "execution_count": 3,
   "id": "f81f49b2-30c1-4af1-95d3-9e2f82d28396",
   "metadata": {},
   "outputs": [],
   "source": [
    "class ParticleSimulator:\n",
    "\n",
    "    def __init__(self, particle):\n",
    "        self.particle = particle\n",
    "\n",
    "    def evolve(self, dt):\n",
    "        p = self.particle\n",
    "        timestep = 0.00001\n",
    "        nsteps = int(dt/timestep)\n",
    "\n",
    "        for i in np.arange(nsteps):\n",
    "\n",
    "            ipotenusa = (p.x**2 + p.y**2)**0.5\n",
    "            cos_v =  p.y/ipotenusa\n",
    "            sin_v = -p.x/ipotenusa\n",
    "\n",
    "            d_x = timestep*p.ang_vel*cos_v\n",
    "            d_y = timestep*p.ang_vel*sin_v\n",
    "\n",
    "            p.x += d_x\n",
    "            p.y += d_y"
   ]
  },
  {
   "cell_type": "code",
   "execution_count": 21,
   "id": "0faa2533-6378-4942-a532-8c6a1048381f",
   "metadata": {},
   "outputs": [],
   "source": [
    "particle = Particle(3, 2, 1)"
   ]
  },
  {
   "cell_type": "code",
   "execution_count": 22,
   "id": "90899539-0c6e-4a8f-b031-28da00711a05",
   "metadata": {},
   "outputs": [],
   "source": [
    "simulator = ParticleSimulator(particle)"
   ]
  },
  {
   "cell_type": "code",
   "execution_count": 28,
   "id": "1f495d69-4bf6-4443-a3d2-7e17fed569be",
   "metadata": {},
   "outputs": [],
   "source": [
    "def animate(i):\n",
    "    line.set_data(simulator.particle.x, simulator.particle.y)\n",
    "    return line"
   ]
  },
  {
   "cell_type": "code",
   "execution_count": 29,
   "id": "f6c8c3e5-8c0a-4a3c-98b2-f9f05fe3e910",
   "metadata": {},
   "outputs": [
    {
     "data": {
      "image/png": "[encoded data removed]",
      "text/plain": [
       "<Figure size 432x288 with 1 Axes>"
      ]
     },
     "metadata": {
      "needs_background": "light"
     },
     "output_type": "display_data"
    }
   ],
   "source": [
    "fig = plt.figure()\n",
    "ax = plt.subplot()\n",
    "line = ax.plot(particle.x, particle.y, 'ro')\n",
    "anim = animation.FuncAnimation(fig, animate)\n",
    "plt.show()"
   ]
  },
  {
   "cell_type": "code",
   "execution_count": null,
   "id": "9cb7df11-27fa-4053-a8bc-ad983661880c",
   "metadata": {},
   "outputs": [],
   "source": []
  }
 ],
 "metadata": {
  "kernelspec": {
   "display_name": "Python 3 (ipykernel)",
   "language": "python",
   "name": "python3"
  },
  "language_info": {
   "codemirror_mode": {
    "name": "ipython",
    "version": 3
   },
   "file_extension": ".py",
   "mimetype": "text/x-python",
   "name": "python",
   "nbconvert_exporter": "python",
   "pygments_lexer": "ipython3",
   "version": "3.9.12"
  }
 },
 "nbformat": 4,
 "nbformat_minor": 5
}
