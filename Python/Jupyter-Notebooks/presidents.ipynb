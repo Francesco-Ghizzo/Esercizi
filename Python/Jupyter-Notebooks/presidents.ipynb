{
 "cells": [
  {
   "cell_type": "code",
   "execution_count": 1,
   "id": "fa987c0f",
   "metadata": {},
   "outputs": [],
   "source": [
    "import pandas as pd"
   ]
  },
  {
   "cell_type": "code",
   "execution_count": 2,
   "id": "147c6e09",
   "metadata": {},
   "outputs": [],
   "source": [
    "presidents_dict = { 'Washington': 94,\n",
    "                    'Adams':      48,\n",
    "                    'Jefferson':  96,\n",
    "                    'Madison':    96,\n",
    "                    'Monroe':     96,\n",
    "                    'Adams':      48,\n",
    "                    'Jackson':    96,\n",
    "                    'Van Buren':  48,\n",
    "                    'Harrison':   1,\n",
    "                    'Tyler':      47,\n",
    "                    'Polk':       48,\n",
    "                    'Taylor':     16,\n",
    "                    'Filmore':    32,\n",
    "                    'Pierce':     48,\n",
    "                    'Buchanan':   48,\n",
    "                    'Lincoln':    49,\n",
    "                    'Johnson':    47,\n",
    "                    'Grant':      96,\n",
    "                    'Hayes':      48, \n",
    "                    'Garfield':   7,\n",
    "                    'Arthur':     41, \n",
    "                    'Cleveland':  48, \n",
    "                    'Harrison':   48, \n",
    "                    'Cleveland':  48, \n",
    "                    'McKinley':   54, \n",
    "                    'Roosvelt':   90,\n",
    "                    'Taft':       48, \n",
    "                    'Wilson':     96, \n",
    "                    'Harding':    29  }"
   ]
  },
  {
   "cell_type": "code",
   "execution_count": 3,
   "id": "c269ac53",
   "metadata": {},
   "outputs": [],
   "source": [
    "presidents_df = pd.DataFrame([[k, v] for k, v in presidents_dict.items()], columns = (\"President\", \"Months in Office\"))"
   ]
  },
  {
   "cell_type": "code",
   "execution_count": 4,
   "id": "aeb312b7",
   "metadata": {},
   "outputs": [],
   "source": [
    "presidents_df"
   ]
  }
 ],
 "metadata": {},
 "nbformat": 4,
 "nbformat_minor": 5
}
